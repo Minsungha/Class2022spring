{
  "nbformat": 4,
  "nbformat_minor": 0,
  "metadata": {
    "colab": {
      "name": "20220425.ipynb",
      "provenance": [],
      "authorship_tag": "ABX9TyMlD/5JyceDFSjeFl7FV2eb",
      "include_colab_link": true
    },
    "kernelspec": {
      "name": "python3",
      "display_name": "Python 3"
    },
    "language_info": {
      "name": "python"
    }
  },
  "cells": [
    {
      "cell_type": "markdown",
      "metadata": {
        "id": "view-in-github",
        "colab_type": "text"
      },
      "source": [
        "<a href=\"https://colab.research.google.com/github/Minsungha/class2022spring/blob/main/20220425.ipynb\" target=\"_parent\"><img src=\"https://colab.research.google.com/assets/colab-badge.svg\" alt=\"Open In Colab\"/></a>"
      ]
    },
    {
      "cell_type": "markdown",
      "source": [
        "\n",
        "\n",
        "*   Auto Correlation\n",
        "    - Serial Correlation으로도 알려짐\n",
        "    - 자기 자신의 신호의 상관관계를 확인하는 것\n",
        "    - 서로 다른 두 '시점(Time)'의 관측치 사이에 나타나는 상관성\n",
        "    - 반대말은 Cross Correlation으로, 다른 2개의 신호 사이의 신호 상관관계를 확인하는 것\n",
        "\n",
        "\n",
        "\n",
        "    \n",
        "*   Root Mean Square\n",
        "    - 제곱평균제곱근\n",
        "    - 변화하는 값의 크기에 대한 통계적 척도로, 특히 Sine 함수처럼 변수들이 음과 양의 값을 오고갈 때 유용\n",
        "    - 각 값들의 제곱에 대한 평균(산술평균)을 낸 후 이에 대한 제곱근을 취해 계산\n",
        "    - 신호의 레벨(음압)을 나타내기에 유용\n",
        "    - 음압은 소리가 얼마나 큰 압력을 가지고 있는지를 표현한 수치로, 단위는 dB"
      ],
      "metadata": {
        "id": "ToRLy7jI_mfD"
      }
    }
  ]
}