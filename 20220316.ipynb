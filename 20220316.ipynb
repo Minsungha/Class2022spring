{
  "nbformat": 4,
  "nbformat_minor": 0,
  "metadata": {
    "colab": {
      "name": "20220316.ipynb",
      "provenance": [],
      "authorship_tag": "ABX9TyPFFx4U3Mbx1OVeG5AJXdGs",
      "include_colab_link": true
    },
    "kernelspec": {
      "name": "python3",
      "display_name": "Python 3"
    },
    "language_info": {
      "name": "python"
    }
  },
  "cells": [
    {
      "cell_type": "markdown",
      "metadata": {
        "id": "view-in-github",
        "colab_type": "text"
      },
      "source": [
        "<a href=\"https://colab.research.google.com/github/Minsungha/class2022spring/blob/main/20220316.ipynb\" target=\"_parent\"><img src=\"https://colab.research.google.com/assets/colab-badge.svg\" alt=\"Open In Colab\"/></a>"
      ]
    },
    {
      "cell_type": "markdown",
      "source": [
        "파이썬에서 중요한 것은 크게 3가지\n",
        "1. 변수\n",
        "2. 문법\n",
        "3. 함수\n",
        "(+패키지)"
      ],
      "metadata": {
        "id": "HcGsbcI-u-Q8"
      }
    },
    {
      "cell_type": "markdown",
      "source": [
        "Variables"
      ],
      "metadata": {
        "id": "C3pquRe-vPje"
      }
    },
    {
      "cell_type": "code",
      "source": [
        "a = 1; print(type(a)) #소숫점없으면 정수. int"
      ],
      "metadata": {
        "colab": {
          "base_uri": "https://localhost:8080/"
        },
        "id": "qi68b8GNv9sl",
        "outputId": "6f138ed2-5c78-480e-9f0d-294f123ce941"
      },
      "execution_count": 9,
      "outputs": [
        {
          "output_type": "stream",
          "name": "stdout",
          "text": [
            "<class 'int'>\n"
          ]
        }
      ]
    },
    {
      "cell_type": "code",
      "source": [
        "a = 1.1; print(type(a)) #실수. float"
      ],
      "metadata": {
        "colab": {
          "base_uri": "https://localhost:8080/"
        },
        "id": "yQ1IwEeLv_5h",
        "outputId": "765bfcb9-f083-4a66-dd1f-c8570b8a68c9"
      },
      "execution_count": 7,
      "outputs": [
        {
          "output_type": "stream",
          "name": "stdout",
          "text": [
            "<class 'float'>\n"
          ]
        }
      ]
    },
    {
      "cell_type": "code",
      "source": [
        "a = '123'; print(type(a)); print(a[1]) #string ''이 표시 해주면 됨"
      ],
      "metadata": {
        "colab": {
          "base_uri": "https://localhost:8080/"
        },
        "id": "TdkbMxV0wAEO",
        "outputId": "ba290e52-3467-4def-b1ec-ca96f3519e01"
      },
      "execution_count": 10,
      "outputs": [
        {
          "output_type": "stream",
          "name": "stdout",
          "text": [
            "<class 'str'>\n",
            "2\n"
          ]
        }
      ]
    },
    {
      "cell_type": "code",
      "source": [
        "a = 'hello'; print(type(a)); print(a[1])"
      ],
      "metadata": {
        "colab": {
          "base_uri": "https://localhost:8080/"
        },
        "id": "VVkkJW-JwAF5",
        "outputId": "697d3747-c937-4fc5-8c97-d265c1cf4113"
      },
      "execution_count": 11,
      "outputs": [
        {
          "output_type": "stream",
          "name": "stdout",
          "text": [
            "<class 'str'>\n",
            "e\n"
          ]
        }
      ]
    },
    {
      "cell_type": "code",
      "source": [
        "a = [1, 2, 3, 4]; print(type(a)); print(a[0]) #list - 여러개를 담을 때. 대괄호 안에 숫자 및 문자를 여러개 넣을 수 있음"
      ],
      "metadata": {
        "colab": {
          "base_uri": "https://localhost:8080/"
        },
        "id": "JTU4QEoNwAKb",
        "outputId": "ff25f23c-fb24-4609-ec3d-3a025991e8fa"
      },
      "execution_count": 12,
      "outputs": [
        {
          "output_type": "stream",
          "name": "stdout",
          "text": [
            "<class 'list'>\n",
            "1\n"
          ]
        }
      ]
    },
    {
      "cell_type": "code",
      "source": [
        "a = [1,'a', [3, '4']]; print(type(a)); print(a[0]); print(a[1]); print(a[2]); print(a[2][1]) #처음부터끝까지 print하려면 그냥 a 이렇게 써도 됨"
      ],
      "metadata": {
        "colab": {
          "base_uri": "https://localhost:8080/"
        },
        "id": "P-w7_7XlwAMN",
        "outputId": "e9661df7-6072-4dda-91fd-dac4242443c3"
      },
      "execution_count": 13,
      "outputs": [
        {
          "output_type": "stream",
          "name": "stdout",
          "text": [
            "<class 'list'>\n",
            "1\n",
            "a\n",
            "[3, '4']\n",
            "4\n"
          ]
        }
      ]
    },
    {
      "cell_type": "code",
      "source": [
        "a =\t{\"a\": \"apple\", \"b\": \"orange\", \"c\": 2014} #dict? 중괄호로 되어 있고, 컴마로 구분. 단어와, 뜻 쌍으로 되어 있음\n",
        "print(type(a))\n",
        "print(a[\"a\"])"
      ],
      "metadata": {
        "colab": {
          "base_uri": "https://localhost:8080/"
        },
        "id": "r5dbnYvcw5h7",
        "outputId": "56010eac-ac43-451f-e96b-77dfe9268bf8"
      },
      "execution_count": 8,
      "outputs": [
        {
          "output_type": "stream",
          "name": "stdout",
          "text": [
            "<class 'dict'>\n",
            "apple\n"
          ]
        }
      ]
    },
    {
      "cell_type": "code",
      "source": [
        "a = (1,2,3) #list랑 유사한 tuple있음. 대괄호 대신에 ()쓰면됨. tuple은 item을 assign해와서 변경하는 게 불가능함"
      ],
      "metadata": {
        "id": "KWrWrS-Jw6fO"
      },
      "execution_count": 18,
      "outputs": []
    },
    {
      "cell_type": "markdown",
      "source": [
        "String"
      ],
      "metadata": {
        "id": "u4fSShCOycX7"
      }
    },
    {
      "cell_type": "code",
      "source": [
        "print(a) #변수가 나옴\n",
        "type(a) #변수의 type가 나옴"
      ],
      "metadata": {
        "colab": {
          "base_uri": "https://localhost:8080/"
        },
        "id": "2h0veN_uwNs2",
        "outputId": "7e1897c5-b02b-454a-a63c-d44825538ca4"
      },
      "execution_count": 6,
      "outputs": [
        {
          "output_type": "stream",
          "name": "stdout",
          "text": [
            "1\n"
          ]
        },
        {
          "output_type": "execute_result",
          "data": {
            "text/plain": [
              "int"
            ]
          },
          "metadata": {},
          "execution_count": 6
        }
      ]
    },
    {
      "cell_type": "code",
      "source": [
        "n = [100, 200, 300]\n",
        "print(n[0], n[2], n[-1], n[-3])\n",
        "print(n[1:2], n[1:], n[:2], n[:])"
      ],
      "metadata": {
        "id": "ze5itYhaySEM"
      },
      "execution_count": null,
      "outputs": []
    },
    {
      "cell_type": "code",
      "source": [
        "len(s) # s의 길이"
      ],
      "metadata": {
        "colab": {
          "base_uri": "https://localhost:8080/"
        },
        "id": "rreHQMRkySKy",
        "outputId": "3c7c6b21-d89a-4393-c197-e3b17aa86c08"
      },
      "execution_count": 21,
      "outputs": [
        {
          "output_type": "execute_result",
          "data": {
            "text/plain": [
              "6"
            ]
          },
          "metadata": {},
          "execution_count": 21
        }
      ]
    },
    {
      "cell_type": "code",
      "source": [
        "s = 'abcdef'\n",
        "print(s[0], s[5], s[-1], s[-6])\n",
        "print(s[1:3], s[1:], s[:3], s[:])"
      ],
      "metadata": {
        "colab": {
          "base_uri": "https://localhost:8080/"
        },
        "id": "R9jP3vxHw6gq",
        "outputId": "0648425b-3419-4722-ca84-a05f5e690484"
      },
      "execution_count": 20,
      "outputs": [
        {
          "output_type": "stream",
          "name": "stdout",
          "text": [
            "a f f a\n",
            "bc bcdef abc abcdef\n"
          ]
        }
      ]
    },
    {
      "cell_type": "code",
      "source": [
        "s[1]+s[3]+s[4:]*10"
      ],
      "metadata": {
        "colab": {
          "base_uri": "https://localhost:8080/",
          "height": 36
        },
        "id": "BrbaaSyZySMF",
        "outputId": "bbb334c0-2dfa-4fb8-972e-a6b615f21128"
      },
      "execution_count": 23,
      "outputs": [
        {
          "output_type": "execute_result",
          "data": {
            "text/plain": [
              "'bdefefefefefefefefefef'"
            ],
            "application/vnd.google.colaboratory.intrinsic+json": {
              "type": "string"
            }
          },
          "metadata": {},
          "execution_count": 23
        }
      ]
    },
    {
      "cell_type": "code",
      "source": [
        "s.upper() #대문자 만들어주기"
      ],
      "metadata": {
        "colab": {
          "base_uri": "https://localhost:8080/",
          "height": 36
        },
        "id": "DkqfvMHfySP1",
        "outputId": "c83e78da-66de-4774-cd9c-cba0d389a8c5"
      },
      "execution_count": 24,
      "outputs": [
        {
          "output_type": "execute_result",
          "data": {
            "text/plain": [
              "'ABCDEF'"
            ],
            "application/vnd.google.colaboratory.intrinsic+json": {
              "type": "string"
            }
          },
          "metadata": {},
          "execution_count": 24
        }
      ]
    },
    {
      "cell_type": "code",
      "source": [
        "s = ' this is a house built this year.\\n' \t\n",
        "s"
      ],
      "metadata": {
        "colab": {
          "base_uri": "https://localhost:8080/",
          "height": 36
        },
        "id": "Luem_XT2ySRl",
        "outputId": "dfa8e660-dd06-450e-dfe3-9f20ddae5e88"
      },
      "execution_count": 25,
      "outputs": [
        {
          "output_type": "execute_result",
          "data": {
            "text/plain": [
              "' this is a house built this year.\\n'"
            ],
            "application/vnd.google.colaboratory.intrinsic+json": {
              "type": "string"
            }
          },
          "metadata": {},
          "execution_count": 25
        }
      ]
    },
    {
      "cell_type": "code",
      "source": [
        "result = s.find('house') \t    # house가 처음 나타나는 곳의 자리를 표시 (0부터 세는 거 잊지 말기)\n",
        "result"
      ],
      "metadata": {
        "colab": {
          "base_uri": "https://localhost:8080/"
        },
        "id": "tVAzvhqqySVg",
        "outputId": "e50f16d2-83ee-4916-c250-becebfc5895c"
      },
      "execution_count": 26,
      "outputs": [
        {
          "output_type": "execute_result",
          "data": {
            "text/plain": [
              "11"
            ]
          },
          "metadata": {},
          "execution_count": 26
        }
      ]
    },
    {
      "cell_type": "code",
      "source": [
        "result = s.find('this')\t      # rhis 두개 있으면 앞에 this 찾음\n",
        "result"
      ],
      "metadata": {
        "colab": {
          "base_uri": "https://localhost:8080/"
        },
        "id": "rR4YJJJZySYF",
        "outputId": "1ce1937d-3504-4e8a-b0a0-06b89e4a4060"
      },
      "execution_count": 27,
      "outputs": [
        {
          "output_type": "execute_result",
          "data": {
            "text/plain": [
              "1"
            ]
          },
          "metadata": {},
          "execution_count": 27
        }
      ]
    },
    {
      "cell_type": "code",
      "source": [
        "s = s.strip()      \t          # white space 없애기\n",
        "s"
      ],
      "metadata": {
        "colab": {
          "base_uri": "https://localhost:8080/",
          "height": 36
        },
        "id": "7OnIT0i3ySau",
        "outputId": "45215020-6274-4bb5-87e0-ae9041db820c"
      },
      "execution_count": 28,
      "outputs": [
        {
          "output_type": "execute_result",
          "data": {
            "text/plain": [
              "'this is a house built this year.'"
            ],
            "application/vnd.google.colaboratory.intrinsic+json": {
              "type": "string"
            }
          },
          "metadata": {},
          "execution_count": 28
        }
      ]
    },
    {
      "cell_type": "code",
      "source": [
        "tokens = s.split(' ')\t        # 빈공간을 중심으로 다 자르기\n",
        "tokens\n"
      ],
      "metadata": {
        "colab": {
          "base_uri": "https://localhost:8080/"
        },
        "id": "TroEq2qKyScx",
        "outputId": "96ad49fc-c243-4d52-d718-018d4a169ece"
      },
      "execution_count": 29,
      "outputs": [
        {
          "output_type": "execute_result",
          "data": {
            "text/plain": [
              "['this', 'is', 'a', 'house', 'built', 'this', 'year.']"
            ]
          },
          "metadata": {},
          "execution_count": 29
        }
      ]
    },
    {
      "cell_type": "code",
      "source": [
        "s = ' '.join(tokens)\t        # token으로 자른 거 다 붙이기\n",
        "s"
      ],
      "metadata": {
        "colab": {
          "base_uri": "https://localhost:8080/",
          "height": 36
        },
        "id": "LIrEou81ySft",
        "outputId": "ecbeabf1-a804-4d8d-bab8-94702cf29bb4"
      },
      "execution_count": 30,
      "outputs": [
        {
          "output_type": "execute_result",
          "data": {
            "text/plain": [
              "'this is a house built this year.'"
            ],
            "application/vnd.google.colaboratory.intrinsic+json": {
              "type": "string"
            }
          },
          "metadata": {},
          "execution_count": 30
        }
      ]
    },
    {
      "cell_type": "code",
      "source": [
        "s = s.replace('this', 'that') # replace instances of t with u inside s\n",
        "s"
      ],
      "metadata": {
        "colab": {
          "base_uri": "https://localhost:8080/",
          "height": 36
        },
        "id": "Ko83av5gyShS",
        "outputId": "5a7e0cf6-6ea5-4fab-84be-0a88b260589a"
      },
      "execution_count": 31,
      "outputs": [
        {
          "output_type": "execute_result",
          "data": {
            "text/plain": [
              "'that is a house built that year.'"
            ],
            "application/vnd.google.colaboratory.intrinsic+json": {
              "type": "string"
            }
          },
          "metadata": {},
          "execution_count": 31
        }
      ]
    },
    {
      "cell_type": "markdown",
      "source": [
        "Function"
      ],
      "metadata": {
        "id": "crP5ppmbzkj1"
      }
    },
    {
      "cell_type": "code",
      "source": [
        "def add(a,b): #function 쓰는법: 함수이름 적고 괄호 열고 input넣고 괄호 닫고.\n",
        "  return a+b\n",
        "\n",
        "def subtract(a,b): #def 적고 함수이름 적고 (입력변수,입력변수,...) return 뒤에는 함수 정의에 대한 내용\n",
        "  return a-b\n",
        "\n",
        "def multiply(a,b):\n",
        "  return a*b\n",
        "\n",
        "def divide(a,b):\n",
        "  return a/b"
      ],
      "metadata": {
        "id": "rq6AAWqTzkOH"
      },
      "execution_count": 32,
      "outputs": []
    },
    {
      "cell_type": "code",
      "source": [
        "c = add(1,2); print(c)\n",
        "c = subtract(1,2); print(c)\n",
        "c = multiply(1,2); print(c)\n",
        "c = divide(1,2); print(c)"
      ],
      "metadata": {
        "colab": {
          "base_uri": "https://localhost:8080/"
        },
        "id": "lg79F_IXw6kf",
        "outputId": "d8759dd1-1d19-423f-f027-f6fa81bea6eb"
      },
      "execution_count": 34,
      "outputs": [
        {
          "output_type": "stream",
          "name": "stdout",
          "text": [
            "3\n",
            "-1\n",
            "2\n",
            "0.5\n"
          ]
        }
      ]
    },
    {
      "cell_type": "markdown",
      "source": [
        "Syntax"
      ],
      "metadata": {
        "id": "1gHlw33z0JXb"
      }
    },
    {
      "cell_type": "code",
      "source": [
        "a = [1, 2, 3, 4] #List 들어감\n",
        "for i in a: #for loop. a안에 있는 요소들을 하나씩 넣어서 돌림\n",
        "    print(i) #indent 중요. 이거 있어야 for안에 속한 거에 대해 ~~를 해라가 적용됨"
      ],
      "metadata": {
        "colab": {
          "base_uri": "https://localhost:8080/"
        },
        "id": "cOtF729Iw6mJ",
        "outputId": "b6ffd766-6a7e-40f3-cc40-7b2c7ba7ba63"
      },
      "execution_count": 33,
      "outputs": [
        {
          "output_type": "stream",
          "name": "stdout",
          "text": [
            "1\n",
            "2\n",
            "3\n",
            "4\n"
          ]
        }
      ]
    },
    {
      "cell_type": "code",
      "source": [
        "a = [1, 2, 3, 4]\n",
        "for i in range(len(a)):\n",
        "    print(a[i])"
      ],
      "metadata": {
        "colab": {
          "base_uri": "https://localhost:8080/"
        },
        "id": "wwhdJRgB0NsD",
        "outputId": "f1fe8782-206d-48f0-b4c5-278763e5f077"
      },
      "execution_count": 35,
      "outputs": [
        {
          "output_type": "stream",
          "name": "stdout",
          "text": [
            "1\n",
            "2\n",
            "3\n",
            "4\n"
          ]
        }
      ]
    },
    {
      "cell_type": "code",
      "source": [
        "a = ['red', 'green', 'blue', 'purple']\n",
        "for i in a:\n",
        "    print(i)"
      ],
      "metadata": {
        "colab": {
          "base_uri": "https://localhost:8080/"
        },
        "id": "lGPWAxxK0Ntz",
        "outputId": "8d95bc48-6515-477a-b832-3848fec33906"
      },
      "execution_count": 36,
      "outputs": [
        {
          "output_type": "stream",
          "name": "stdout",
          "text": [
            "red\n",
            "green\n",
            "blue\n",
            "purple\n"
          ]
        }
      ]
    },
    {
      "cell_type": "code",
      "source": [
        "a = ['red', 'green', 'blue', 'purple']\n",
        "for i in range(len(a)):\n",
        "    print(a[i])"
      ],
      "metadata": {
        "colab": {
          "base_uri": "https://localhost:8080/"
        },
        "id": "4XGiT5UW0NwS",
        "outputId": "6632bc7e-1dcf-4ac2-aad8-e26b6edeac24"
      },
      "execution_count": 37,
      "outputs": [
        {
          "output_type": "stream",
          "name": "stdout",
          "text": [
            "red\n",
            "green\n",
            "blue\n",
            "purple\n"
          ]
        }
      ]
    },
    {
      "cell_type": "code",
      "source": [
        "a = 0\n",
        "if a == 0:\n",
        "    print(a)\n",
        "else:\n",
        "    print(a+1)"
      ],
      "metadata": {
        "colab": {
          "base_uri": "https://localhost:8080/"
        },
        "id": "f_uEGKFQ0NyR",
        "outputId": "8f7ec4d0-dc1e-4791-eb38-a89b3cb74063"
      },
      "execution_count": 38,
      "outputs": [
        {
          "output_type": "stream",
          "name": "stdout",
          "text": [
            "0\n"
          ]
        }
      ]
    },
    {
      "cell_type": "code",
      "source": [
        "for i in range(1, 3):\n",
        "    for j in range(3, 5):\n",
        "        print(i*j)"
      ],
      "metadata": {
        "colab": {
          "base_uri": "https://localhost:8080/"
        },
        "id": "DSn_2Zb20N1a",
        "outputId": "14553c19-6561-437e-d4ab-ce8341332729"
      },
      "execution_count": 39,
      "outputs": [
        {
          "output_type": "stream",
          "name": "stdout",
          "text": [
            "3\n",
            "4\n",
            "6\n",
            "8\n"
          ]
        }
      ]
    },
    {
      "cell_type": "code",
      "source": [
        "for i in range(1, 3):\n",
        "    for j in range(3, 5):\n",
        "        if j >=4:\n",
        "            print(i*j)"
      ],
      "metadata": {
        "colab": {
          "base_uri": "https://localhost:8080/"
        },
        "id": "uGMpJsWc0N3T",
        "outputId": "1dbdf8c9-370a-4d1a-e515-c9b8304dcd16"
      },
      "execution_count": 40,
      "outputs": [
        {
          "output_type": "stream",
          "name": "stdout",
          "text": [
            "4\n",
            "8\n"
          ]
        }
      ]
    },
    {
      "cell_type": "code",
      "source": [
        "a = [1, 2, 3, 4]\n",
        "b = [i for i in a if i >=2]\n",
        "b"
      ],
      "metadata": {
        "colab": {
          "base_uri": "https://localhost:8080/"
        },
        "id": "U2etyMGg0N6Z",
        "outputId": "ebdbf947-ef54-4342-f315-2b0bfac1c18a"
      },
      "execution_count": 41,
      "outputs": [
        {
          "output_type": "execute_result",
          "data": {
            "text/plain": [
              "[2, 3, 4]"
            ]
          },
          "metadata": {},
          "execution_count": 41
        }
      ]
    },
    {
      "cell_type": "code",
      "source": [
        "a = ['red', 'green', 'blue', 'purple']\n",
        "b = [i for i in a if len(i) >=4]\n",
        "b"
      ],
      "metadata": {
        "colab": {
          "base_uri": "https://localhost:8080/"
        },
        "id": "K0kr0TSL0N8c",
        "outputId": "98e300ac-289a-4278-bb60-ac43d32a6ae0"
      },
      "execution_count": 42,
      "outputs": [
        {
          "output_type": "execute_result",
          "data": {
            "text/plain": [
              "['green', 'blue', 'purple']"
            ]
          },
          "metadata": {},
          "execution_count": 42
        }
      ]
    },
    {
      "cell_type": "code",
      "source": [
        "a = ['red', 'green', 'blue', 'purple']\n",
        "b = [1, 2, 3, 4]\n",
        "c = {a[i]:b[i] for i in range(4)}\n",
        "c"
      ],
      "metadata": {
        "colab": {
          "base_uri": "https://localhost:8080/"
        },
        "id": "38_oYw8R0N_V",
        "outputId": "c561c249-0748-4b74-c261-6f0ad53ab8fe"
      },
      "execution_count": 43,
      "outputs": [
        {
          "output_type": "execute_result",
          "data": {
            "text/plain": [
              "{'blue': 3, 'green': 2, 'purple': 4, 'red': 1}"
            ]
          },
          "metadata": {},
          "execution_count": 43
        }
      ]
    },
    {
      "cell_type": "markdown",
      "source": [
        "Import"
      ],
      "metadata": {
        "id": "t9JhL23m0tYL"
      }
    },
    {
      "cell_type": "code",
      "source": [
        "import numpy as np #남들이 만든 패키지 불러오는 게 import. numpy를 np로 가져오라\n",
        "n = np.random.randn(100) #random number 만들어라. import안했으면 이거 아예 실행조차 되지 않음"
      ],
      "metadata": {
        "id": "zBeJjcZd0OBI"
      },
      "execution_count": null,
      "outputs": []
    },
    {
      "cell_type": "code",
      "source": [
        "import matplotlib #matplotlib은 visualize해주는 패키지\n",
        "matplotlib.pyplot.hist(n) #hist는 histogram만드는 거"
      ],
      "metadata": {
        "id": "16r0uYJw0OFl"
      },
      "execution_count": null,
      "outputs": []
    },
    {
      "cell_type": "code",
      "source": [
        "import matplotlib.pyplot #하위 디렉토리까지 import해올 수 있음\n",
        "matplotlib.pyplot.hist(n)"
      ],
      "metadata": {
        "id": "YatSjUbB03ww"
      },
      "execution_count": null,
      "outputs": []
    },
    {
      "cell_type": "code",
      "source": [
        "import matplotlib.pyplot as plt #plt라고 줄여쓰자\n",
        "plt.hist(n)"
      ],
      "metadata": {
        "id": "XS0L3yzS03yn"
      },
      "execution_count": null,
      "outputs": []
    },
    {
      "cell_type": "code",
      "source": [
        "from matplotlib import pyplot #from import를 쓰면 import as처럼 축약해서 부를 수 있는 효과\n",
        "pyplot.hist(n)"
      ],
      "metadata": {
        "id": "K2WY768s032I"
      },
      "execution_count": null,
      "outputs": []
    },
    {
      "cell_type": "code",
      "source": [
        "from matplotlib.pyplot import hist\n",
        "hist(n)"
      ],
      "metadata": {
        "id": "yftNvBJe034W"
      },
      "execution_count": null,
      "outputs": []
    },
    {
      "cell_type": "markdown",
      "source": [
        "Numpy, Matplotlib"
      ],
      "metadata": {
        "id": "BvQ0eL4_1zYB"
      }
    },
    {
      "cell_type": "code",
      "source": [
        "import numpy as np #numpy: 숫자랑 관련된 것.숫자를 만들어 내는 것"
      ],
      "metadata": {
        "id": "35CUhZFu0368"
      },
      "execution_count": 16,
      "outputs": []
    },
    {
      "cell_type": "code",
      "source": [
        "x = np.array([1,2,3])\n",
        "print(x)\n",
        "print(type(x))\n",
        "print(x.shape) #1차원 array이니까 (3,)"
      ],
      "metadata": {
        "colab": {
          "base_uri": "https://localhost:8080/"
        },
        "id": "dgB2zS3W039G",
        "outputId": "29800c43-2ce6-4679-9933-ded349a7a15a"
      },
      "execution_count": 49,
      "outputs": [
        {
          "output_type": "stream",
          "name": "stdout",
          "text": [
            "[1 2 3]\n",
            "<class 'numpy.ndarray'>\n",
            "(3,)\n"
          ]
        }
      ]
    },
    {
      "cell_type": "code",
      "source": [
        "x = np.arange(0,10,2) #0~(10-1)까지. 2개씩 띄어서 정렬\n",
        "print(x)\n",
        "print(type(x))\n",
        "print(x.shape) #5개 array가 들어있어서 (5,)"
      ],
      "metadata": {
        "colab": {
          "base_uri": "https://localhost:8080/"
        },
        "id": "XiEJwPEv03_6",
        "outputId": "e41db4ed-0d6a-47b4-f3ce-21ba4689aa09"
      },
      "execution_count": 50,
      "outputs": [
        {
          "output_type": "stream",
          "name": "stdout",
          "text": [
            "[0 2 4 6 8]\n",
            "<class 'numpy.ndarray'>\n",
            "(5,)\n"
          ]
        }
      ]
    },
    {
      "cell_type": "code",
      "source": [
        "x = np.linspace(0,10,6) #linear space. 0~10까지 (얜 또 10 포함) linear하게(등간격으로) 숫자 만들어라\n",
        "print(x)\n",
        "print(type(x))\n",
        "print(x.shape)"
      ],
      "metadata": {
        "colab": {
          "base_uri": "https://localhost:8080/"
        },
        "id": "RqXgl-HT04Bp",
        "outputId": "8ba8899e-ac68-4ecd-ad54-729ddcdb660d"
      },
      "execution_count": 51,
      "outputs": [
        {
          "output_type": "stream",
          "name": "stdout",
          "text": [
            "[ 0.  2.  4.  6.  8. 10.]\n",
            "<class 'numpy.ndarray'>\n",
            "(6,)\n"
          ]
        }
      ]
    },
    {
      "cell_type": "code",
      "source": [
        "x = np.array([[1,2,3], [4,5,6]]) #이중 list (2demension임. row 2개, column 3개)\n",
        "print(x)\n",
        "print(type(x))\n",
        "print(x.shape) "
      ],
      "metadata": {
        "colab": {
          "base_uri": "https://localhost:8080/"
        },
        "id": "qpFBrqCm04Ef",
        "outputId": "5831bab7-f1c3-4225-f765-01ec902eab69"
      },
      "execution_count": 52,
      "outputs": [
        {
          "output_type": "stream",
          "name": "stdout",
          "text": [
            "[[1 2 3]\n",
            " [4 5 6]]\n",
            "<class 'numpy.ndarray'>\n",
            "(2, 3)\n"
          ]
        }
      ]
    },
    {
      "cell_type": "code",
      "source": [
        "x = np.array([[[1,2,3], [4,5,6]], [[7,8,9], [10,11,12]]]) # 3 demension임. 제일 앞/뒤 괄호의 개수가 demension. 3개면 3차원. 이렇게 이해하면됨. \n",
        "print(x)\n",
        "print(type(x))\n",
        "print(x.shape)"
      ],
      "metadata": {
        "colab": {
          "base_uri": "https://localhost:8080/"
        },
        "id": "Gz1l7IOv04Gs",
        "outputId": "c60d2eff-8244-4972-9521-f246282493d2"
      },
      "execution_count": 53,
      "outputs": [
        {
          "output_type": "stream",
          "name": "stdout",
          "text": [
            "[[[ 1  2  3]\n",
            "  [ 4  5  6]]\n",
            "\n",
            " [[ 7  8  9]\n",
            "  [10 11 12]]]\n",
            "<class 'numpy.ndarray'>\n",
            "(2, 2, 3)\n"
          ]
        }
      ]
    },
    {
      "cell_type": "code",
      "source": [
        "x = np.ones([2, 2, 3]) #1로 채워라\n",
        "print(x)\n",
        "print(type(x))\n",
        "print(x.shape)"
      ],
      "metadata": {
        "colab": {
          "base_uri": "https://localhost:8080/"
        },
        "id": "u9EpbYtj04JT",
        "outputId": "2d9d914c-46af-4a47-c810-d3e8ee936fb8"
      },
      "execution_count": 54,
      "outputs": [
        {
          "output_type": "stream",
          "name": "stdout",
          "text": [
            "[[[1. 1. 1.]\n",
            "  [1. 1. 1.]]\n",
            "\n",
            " [[1. 1. 1.]\n",
            "  [1. 1. 1.]]]\n",
            "<class 'numpy.ndarray'>\n",
            "(2, 2, 3)\n"
          ]
        }
      ]
    },
    {
      "cell_type": "code",
      "source": [
        "x = np.zeros([2, 2, 3]) #0으로 채워라\n",
        "print(x)\n",
        "print(type(x))\n",
        "print(x.shape)\n",
        "x.reshape(3,2,2)"
      ],
      "metadata": {
        "colab": {
          "base_uri": "https://localhost:8080/"
        },
        "id": "CkALBqng04LK",
        "outputId": "8c5ff771-e999-48b0-8d46-050c321883af"
      },
      "execution_count": 48,
      "outputs": [
        {
          "output_type": "stream",
          "name": "stdout",
          "text": [
            "[[[0. 0. 0.]\n",
            "  [0. 0. 0.]]\n",
            "\n",
            " [[0. 0. 0.]\n",
            "  [0. 0. 0.]]]\n",
            "<class 'numpy.ndarray'>\n",
            "(2, 2, 3)\n"
          ]
        },
        {
          "output_type": "execute_result",
          "data": {
            "text/plain": [
              "array([[[0., 0.],\n",
              "        [0., 0.]],\n",
              "\n",
              "       [[0., 0.],\n",
              "        [0., 0.]],\n",
              "\n",
              "       [[0., 0.],\n",
              "        [0., 0.]]])"
            ]
          },
          "metadata": {},
          "execution_count": 48
        }
      ]
    },
    {
      "cell_type": "code",
      "source": [
        "np.random.normal(0, 1, [2,3,4]) #난수 만들기. mp array의 normal distribution을 따르는 random number 만들기"
      ],
      "metadata": {
        "colab": {
          "base_uri": "https://localhost:8080/"
        },
        "id": "OXS-x-dS3XFm",
        "outputId": "24e6d03c-648a-4b77-8bdf-b464de632a14"
      },
      "execution_count": 45,
      "outputs": [
        {
          "output_type": "execute_result",
          "data": {
            "text/plain": [
              "array([[[-0.41388599,  0.83261983,  0.75696462,  1.2113548 ],\n",
              "        [ 0.54571819,  0.95917131, -0.83090819, -0.58512728],\n",
              "        [ 0.38511143, -0.58967501,  1.03268411,  1.08843055]],\n",
              "\n",
              "       [[-1.58307463,  0.90694067, -0.51830523, -1.68597148],\n",
              "        [-0.8060347 ,  0.95425935, -2.53163842,  1.96854637],\n",
              "        [-0.09816175, -0.21809735,  0.09960268,  1.14756041]]])"
            ]
          },
          "metadata": {},
          "execution_count": 45
        }
      ]
    },
    {
      "cell_type": "code",
      "source": [
        "import matplotlib.pyplot as plt"
      ],
      "metadata": {
        "id": "QX2Axhu33XnN"
      },
      "execution_count": 44,
      "outputs": []
    },
    {
      "cell_type": "code",
      "source": [
        "x = np.random.normal(0, 1, 100)\n",
        "print(x)\n",
        "plt.hist(x, bins=10)"
      ],
      "metadata": {
        "colab": {
          "base_uri": "https://localhost:8080/",
          "height": 676
        },
        "id": "qbWSegLe3Xpm",
        "outputId": "7a1276b7-7134-4cac-bce1-0987e192aaea"
      },
      "execution_count": 46,
      "outputs": [
        {
          "output_type": "stream",
          "name": "stdout",
          "text": [
            "[ 0.46621346 -1.51960839  0.39769933 -0.55021174  1.06173996  0.44937336\n",
            " -1.86643337  0.22051521  0.14029114 -0.31345586 -1.9801717   0.95393471\n",
            " -0.20724634 -0.62172284 -2.05312291  0.40188821 -0.85018122 -0.17164094\n",
            "  0.88350958 -0.11738941  1.13092043  0.2460077   0.11384677  0.05847847\n",
            " -0.27159046 -0.58717326 -1.56847671  0.206417   -1.10265169 -0.14688844\n",
            " -0.3838524  -0.59763138  0.95679708  1.61819152 -0.3716026  -0.05722106\n",
            "  0.62326324  0.85134324  1.07799316  0.79214303 -0.23170671 -0.55150358\n",
            " -1.98128851  0.77320615  0.2210717  -1.09423099  0.76772994 -1.6924302\n",
            "  0.36026147 -0.61127225  1.42127434 -0.48839841  0.49278157 -1.20500254\n",
            "  0.11854743  2.2065287  -0.42147092  1.3431547   0.57475322  1.04400172\n",
            " -0.62401606  1.28736554  2.20698447  0.59805915 -0.47311682  1.59078762\n",
            "  0.98496731 -1.14433981  1.19041188 -0.73507304  0.09332107 -1.76037056\n",
            "  1.26234472 -0.91645383  0.44319909 -0.69776051  0.44974261  1.51809034\n",
            " -1.18823704 -0.92076165  0.32885415 -1.28119037  1.49390344  0.82938484\n",
            " -0.12602005 -0.89716512  0.80716113 -0.86362987  0.21865637  0.90068983\n",
            " -1.16508511 -0.07707872  0.37410319  0.26898836 -0.52036995  1.05189266\n",
            " -2.13188636  1.72911375 -0.40893107  0.25091699]\n"
          ]
        },
        {
          "output_type": "execute_result",
          "data": {
            "text/plain": [
              "(array([ 6.,  4., 11., 14., 12., 21., 12., 11.,  7.,  2.]),\n",
              " array([-2.13188636, -1.69799927, -1.26411219, -0.83022511, -0.39633802,\n",
              "         0.03754906,  0.47143614,  0.90532322,  1.33921031,  1.77309739,\n",
              "         2.20698447]),\n",
              " <a list of 10 Patch objects>)"
            ]
          },
          "metadata": {},
          "execution_count": 46
        },
        {
          "output_type": "display_data",
          "data": {
            "text/plain": [
              "<Figure size 432x288 with 1 Axes>"
            ],
            "image/png": "[encoded data removed]"
          },
          "metadata": {
            "needs_background": "light"
          }
        }
      ]
    },
    {
      "cell_type": "code",
      "source": [
        "plt.figure()\n",
        "\n",
        "theta1 = np.linspace(0, 2*np.pi, 100) #theta1 안에 있는 개수 100개\n",
        "s1 = np.sin(theta1) #s1안에 있는 개수도 100개\n",
        "theta2 = np.linspace(0, 2*np.pi, 100) + np.pi/2\n",
        "s2 = np.sin(theta2)\n",
        "\n",
        "plt.subplot(2, 1, 1) # (rows, columns, panel number) #2by1으로 만들어라. 즉 두줄, 한칸으로 해라. 마지막 1은, 그 중에서 첫번째 거에 기록해라 (만약 (2,3,1)이었으면 두줄, 세칸으로 만들어서 그중 첫번째꺼 얘기하는 거임)\n",
        "plt.plot(theta1, s1, '.') #plot은 x와 y 값 두개의 입력을 꼭 받아야 함 \n",
        "plt.subplot(2, 1, 2) # (rows, columns, panel number)\n",
        "plt.plot(theta2, s2, '.')"
      ],
      "metadata": {
        "colab": {
          "base_uri": "https://localhost:8080/",
          "height": 284
        },
        "id": "THplTCvt3XuJ",
        "outputId": "9d79e6a0-2c0e-476c-93fa-68c539ad17f5"
      },
      "execution_count": 47,
      "outputs": [
        {
          "output_type": "execute_result",
          "data": {
            "text/plain": [
              "[<matplotlib.lines.Line2D at 0x7f824260f6d0>]"
            ]
          },
          "metadata": {},
          "execution_count": 47
        },
        {
          "output_type": "display_data",
          "data": {
            "text/plain": [
              "<Figure size 432x288 with 2 Axes>"
            ],
            "image/png": "[encoded data removed]"
          },
          "metadata": {
            "needs_background": "light"
          }
        }
      ]
    },
    {
      "cell_type": "code",
      "source": [
        "np.corrcoef(s1,s2) #correlation 비례. 값은 -1에서 1사이. +이면 정비례, -이면 반비례. 더 tight하게 상관관계 높을 수록 더 절대값이 1에 가까워짐.\n",
        "#위 그래프 두개 correlation 시켰을 때 0이 나오는 걸 알 수 있음. 2.419의 e-17승이니까. 1,4번째 것들은 항상 1이 나옴. "
      ],
      "metadata": {
        "colab": {
          "base_uri": "https://localhost:8080/"
        },
        "id": "DELo6yQ53XD7",
        "outputId": "c0daaad3-d99f-421c-a766-7c69d36457fd"
      },
      "execution_count": 55,
      "outputs": [
        {
          "output_type": "execute_result",
          "data": {
            "text/plain": [
              "array([[1.00000000e+00, 2.41915449e-17],\n",
              "       [2.41915449e-17, 1.00000000e+00]])"
            ]
          },
          "metadata": {},
          "execution_count": 55
        }
      ]
    },
    {
      "cell_type": "code",
      "source": [
        ""
      ],
      "metadata": {
        "id": "bdKQNWZW3W-i"
      },
      "execution_count": null,
      "outputs": []
    },
    {
      "cell_type": "code",
      "source": [
        ""
      ],
      "metadata": {
        "id": "N1Vp6HSJ04PG"
      },
      "execution_count": null,
      "outputs": []
    }
  ]
}